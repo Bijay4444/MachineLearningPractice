{
 "cells": [
  {
   "cell_type": "code",
   "execution_count": 1,
   "source": [
    "import numpy as np\r\n",
    "from sklearn import preprocessing, model_selection, neighbors\r\n",
    "import pandas as pd\r\n",
    "\r\n",
    "df = pd.read_csv('breast-cancer-wisconsin.data')\r\n",
    "df.replace('?', -99999, inplace=True)\r\n",
    "df.drop(['id'], 1, inplace=True)\r\n",
    "\r\n",
    "X = np.array(df.drop(['class'], 1))\r\n",
    "y = np.array(df['class'])\r\n",
    "\r\n",
    "X_train, X_test, y_train, y_test = model_selection.train_test_split(X, y, test_size=0.2)\r\n",
    "\r\n",
    "clf = neighbors.KNeighborsClassifier()\r\n",
    "clf.fit(X_train, y_train)\r\n",
    "\r\n",
    "accuracy = clf.score(X_test, y_test)\r\n",
    "print(accuracy)\r\n",
    "\r\n",
    "example_measures = np.array([[4,2,1,1,1,2,3,2,1],[4,2,1,1,1,2,3,2,1]])\r\n",
    "example_measures = example_measures.reshape(len(example_measures), -1)\r\n",
    "\r\n",
    "prediction = clf.predict(example_measures)\r\n",
    "print(prediction)"
   ],
   "outputs": [],
   "metadata": {}
  }
 ],
 "metadata": {
  "orig_nbformat": 4,
  "language_info": {
   "name": "python",
   "version": "3.7.6",
   "mimetype": "text/x-python",
   "codemirror_mode": {
    "name": "ipython",
    "version": 3
   },
   "pygments_lexer": "ipython3",
   "nbconvert_exporter": "python",
   "file_extension": ".py"
  },
  "kernelspec": {
   "name": "python3",
   "display_name": "Python 3.7.6 64-bit ('base': conda)"
  },
  "interpreter": {
   "hash": "8f6fa6855b2e1bd9af1349c9a15994f4578396967442e586c3828f68b1dae0d5"
  }
 },
 "nbformat": 4,
 "nbformat_minor": 2
}